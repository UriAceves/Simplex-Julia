{
 "cells": [
  {
   "cell_type": "markdown",
   "metadata": {},
   "source": [
    "# Método simplex para resolución de problemas de programación lineal\n",
    "\n",
    "#### Por [Uriel Allan Aceves Rodríguez](http://www.fciencias.unam.mx/directorio/71726) para la clase de Programación Lineal.\n",
    "#### Profesora: [Dra. Claudia Orquídea López Soto](http://www.fciencias.unam.mx/directorio/45788).\n",
    "#### Ayudante: [David Chaffrey Moreno Fernández ](http://www.fciencias.unam.mx/directorio/61894).\n",
    "\n",
    "## Introducción\n",
    "\n",
    "El principal algoritmo para la resolución de problemas de programación lineal ha sido por mucho tiempo el *método simplex* introducido por Dantzing. Desde su concepción, el algoritmo a pasado por una evolución sustancial, pero sus principios básicos se han mantenido igual. El método simplex es un procedimiento de cálculos demandantes que requiere el uso de computadoras. Es ampliamente aceptado que la creciente necesidad para la solución de problemas de programación lineal en la vida real ha inspirado significaticamente el desarrollo de las computadoras en la decada de los 50 y principios de los 60 [1].\n",
    "\n",
    "Desde un punto de vista teórico el método simplex no es necesariamente un algoritmo prometedor dado que en el peor de los casos su complejidad es exponencial [1]. Es decir que el número de iteraciones necesarias para resolver un problema aumenta exponencialmente con el tamaño de la entrada. Han sido creados ejemplos para los cuales el contador de iteraciones del algoritmo alcanza su máximo teórico [2]. En la práctica, sin embargo, el método simplex muestra un rendimiento promedio que es una función lineal del tamaño de la entrada, lo que lo convierte en un método altamente eficiente a la hora de resolver problemas de la vida real.\n",
    "\n",
    "Entre 1951 y la mitad de la década de los 70 el objetivo principal de los investigadores era mejoras las capacidades computacionales de el método simplex. Cerca del final de dicho periodo se creía que el método simplex había llegado a su madurez y que no valía la pena esforzarse más en él. Sin embargo, a mitad de los 80 la introducción de métodos de punto inferior para resolver el problema de programación lineal revivió el interés en el simplex [1]. Para sorpresa de muchos observadores el método simplex ha logrado un progreso enorme durante su rivalidad con los métodos de punto interior. La ganancia en eficiencia se estima alrededor de dos órdenes de magnitud [2]. Con todo esto en mente podemos pasar a explicar brevemente el problema."
   ]
  },
  {
   "cell_type": "markdown",
   "metadata": {},
   "source": [
    "## Explicación sucinta\n",
    "\n",
    "El algoritmo simplex opera en programas lineales en forma estándar:\n",
    "\n",
    "$$ \\text{maximizar} \\quad \\mathbf{c} \\cdot \\mathbf{x} \\qquad \\qquad \\quad$$\n",
    "$$ \\text{s.a}\\qquad  \\mathbf{Ax} \\leq \\mathbf{b} \\qquad$$\n",
    "$$ \\quad x_i \\geq 0 $$\n",
    "\n",
    "con $x = (x_1, \\dots, x_n)$ las variables del problema, $ c = (c_1, \\dots, c_n) $ son los coeficientes de la función objetivo, $\\mathbf{A}$ una matriz $p\\times n$, y $b = (b_1,\\dots,b_p)$ constantes con $b_j \\geq 0$. Existe un proceso simple para convertir cualquier problema de programación lineal a uno en la forma estándar, de tal manera que esto resulta en ninguna pérdida de generalidad.\n",
    "\n",
    "En términos geométricos, la región factible\n",
    "\n",
    "$$ \\mathbf{Ax} \\leq \\mathbf{b}, \\quad x_i \\geq 0$$\n",
    "\n",
    "es un (posiblemente no acotado) polítopo convexo. Hay una caracterización simple de los puntos extremos de dicho polítopo,  $x = (x_1,\\dots, x_n)$ es un punto extremo si y sólo si el subconjunto de vectores columna $\\mathbf{A}_i$ correspondiente a las entradas no nulas de $x$ es linealmente independiente. En éste contexto tal punto es conocido como *solución básica factible*. Puede mostrarse que para un problema lineal en su forma estándar, si la función objetivo tiene un valor máximo en la región factible, entonces alcanza este valor en (por lo menos) uno de los puntos extremos. Esto en si, redice el problema a un cálculo finito dado que existe un número finito de puntos extremos, pero la cantidad de puntos extremos es inmanejablemente largo para todos excepto los problemas más pequeños.\n",
    "\n",
    "Puede mostrarse además que si un punto extremo no es un punto máximo de la función objetivo entonces existe una arista conteniendo al punto de tal manera que la función objetivo es estrictamente creciente en la arista al alejarse de ese punto. Si la arista es finita entonces conecta con otro punto extremo en que la función objetivo tiene un valor mayor, de otra forma la función objetivo es no acotada en dicha arista y el problema lineal no tiene solución. El algoritmo simplex aplica este razonamiento caminando a lo largo de las aristas del polítopo a puntos extremos con valores objetivo cada vez mayores. Esto continúa hasta que el valor máximo es alcanzado o una arista no acotada es visitada, concluyendo que el problema no tiene solución. El algoritmo siempre termina debido a que el número de vértices del polítopo es finito; además dado que brincamos entre vértices siempre en la misma dirección (la de la función objetivo), esperamos que el número de vértices visitados sea pequeño.\n",
    "\n",
    "La solución a un problema de programación lineal se alcanza en dos pasos. En el primer paso, conocido como fase I. Se encuentra un punto extremo para iniciar. Dependiendo de la naturaleza del problema, esto puede ser trivial, pero en general puede resolverse aplicando el algoritmo simplex a una versión modificada del problema original. Los posibles resultados de la fase I son encontrar una solución básica factible o que la región factible es vacía. En el segundo caso el problema es llamado *no factible*. En el segundo paso, fase II, el algoritmo simplex es aplicado utilizando la solución básica factible encontrada en la fase I como punto de inicio. Los posibles resultados de la fase II son una solución básica factible óptima o una arista infinita en la cual la función objetivo es no acotada."
   ]
  },
  {
   "cell_type": "markdown",
   "metadata": {},
   "source": [
    "## Algoritmo\n",
    "\n",
    "Sea un problema lineal dado por una tabla canónica. El algoritmo simplex realiza operaciones de pivoteo sucesivas quienes dan una solución básica factible mejorada; la elección del elemento pivote en cada paso es en gran medida determinada por el requerimento de que dicho pivote mejore la solución."
   ]
  },
  {
   "cell_type": "markdown",
   "metadata": {},
   "source": [
    "### Elección de la variable entrante\n",
    "\n",
    "Dado que la variable entrante, en general, incrementará de 0 a un número positivo, el valor de la función objetivo disminuirá si la derivada de la función objetivo con respecto a esa variable es negativa. De manera equivalente, el valor de la función objetivo disminuirá si la columna pivote es seleccionada de tal manera que la entrada corresponeidente en el renglón objetivo de la tabla es positivo.\n",
    "\n",
    "Si existe más de una columna tal qe la entrada en el renglón objetivo es positivo entonces la elección de cuál agregar al conjunto de variables básicas es de alguna manera arbitrario y varias reglas para la elección de la variable entrante han sido desarrolladas.\n",
    "\n",
    "Si todas las entradas en el renglón objetivo son menores o iguales que 0 entonces no se puede hacer ninguna elección y la solución es de hehco óptima. Es fácilmente observable que es óptima, debido al hecho de que el renglón objetivo ahora corresponde a una ecuación de la forma\n",
    "\n",
    "$$ z(\\mathbf{x}) = z_B + \\text{términos no negativos correspondientes a variables no básicas} $$\n",
    "\n",
    "Notemos que cambiando la regla de elección para la variable entrante de tal manera que selecciones la entrada negativa en el renglón objetivo, el algoritmo cambiará de tal forma que encuentra el máximo de la función objetivo en lugar de el mínimo."
   ]
  },
  {
   "cell_type": "markdown",
   "metadata": {},
   "source": [
    "### Elección de la variable saliente\n",
    "\n",
    "Una vez que la columna pivote ha sido seleccionada, la elección del renglón pivote es determinado en gran medida por el requerimento de que la solución resultante sea factible. primero, sólo las entradas positivas de la columna pivote son consideradas dado que esto garantiza que el valor de la variable entrante será no negativo. Si no hay entradas positivas en la columna pivote entonces la variable entrante puede tomar cualquier valor no negativo y la solución permanecería factible. En este caso la función objetivo es no acotada por abajo y no existe mínimo.\n",
    "\n",
    "Después el renglón pivote debe ser seleccionado de tal manera que las variables básicas permanecen positivas. Un cálculo simple muestra que esto ocurre cuando el valor resultante de la variable entrante se encuentra en un mínimo. En otras palabras, si la columna pivote es $c$, entonces el renglón pivote es elegido de tal manera que \n",
    "\n",
    "$$ b_r / a_{rc} $$\n",
    "\n",
    "es el mínimo sobre todas las $r$ de tal manera que $a_{rc} > 0$. Esto se conoce como la prueba del cociente mínimo. Si existe más de un renglón para el cual se alcanza el mínimo entonces puede utilizarse una regla de selección para determinar la variable que entra. En este programa se usa la regla de Bland, que básicamente dice, si hay empate en candidatas a entrar elegimos aquella con el subíndice menor, si hay empate en las candidatas a salir elegimos aquella con el subíndice mayor. Se puede demostrar que con esta regla se previene el ciclado [3-4]."
   ]
  },
  {
   "cell_type": "markdown",
   "metadata": {},
   "source": [
    "## Programa"
   ]
  },
  {
   "cell_type": "markdown",
   "metadata": {},
   "source": [
    "### Protocolo previo\n",
    "\n",
    "Primero es necesario definir el problema que vamos a resolver. Como se comentó arriba, podemos pasar muy fácil de un problema de maximización a uno de minimización y viceversa, en este caso el programa está hecho para resolver problemas de minimización, por lo que si se desear resolver uno de maximización es necesario cambiar la bandera de la variable `minimizar`, a `false`, si el problema es de minimización dicha bandera deberá tener un valor `true`. "
   ]
  },
  {
   "cell_type": "code",
   "execution_count": 1,
   "metadata": {
    "collapsed": false
   },
   "outputs": [
    {
     "data": {
      "text/plain": [
       "2-element Array{Int64,1}:\n",
       " -3\n",
       " -2"
      ]
     },
     "execution_count": 1,
     "metadata": {},
     "output_type": "execute_result"
    }
   ],
   "source": [
    "numero_variables = 2\n",
    "numero_restricciones = 3\n",
    "minimizar = false\n",
    "\n",
    "funcion_objetivo = [3,2];\n",
    "\n",
    "if minimizar == false\n",
    "    funcion_objetivo = -funcion_objetivo\n",
    "end"
   ]
  },
  {
   "cell_type": "markdown",
   "metadata": {},
   "source": [
    "Generamos la matriz para las restricciones. Es importante comentar el hecho de que la última columna tendrá al vector $\\mathbf{b}$ y la penúltima columna está relacionada con el tipo de restricción de dicho renglón, `1` si es de tipo $\\leq$, `2` si es de tipo $\\geq$ y `3` si es de tipo $=$ (por el momento sólo funciona para restricciones tipo $\\leq$)."
   ]
  },
  {
   "cell_type": "code",
   "execution_count": 2,
   "metadata": {
    "collapsed": false
   },
   "outputs": [
    {
     "data": {
      "text/plain": [
       "3x4 Array{Float64,2}:\n",
       " 0.0  0.0  0.0  0.0\n",
       " 0.0  0.0  0.0  0.0\n",
       " 0.0  0.0  0.0  0.0"
      ]
     },
     "execution_count": 2,
     "metadata": {},
     "output_type": "execute_result"
    }
   ],
   "source": [
    "A = zeros((numero_restricciones, numero_variables + 2))"
   ]
  },
  {
   "cell_type": "markdown",
   "metadata": {},
   "source": [
    "Aquí le pasamos las restricciones."
   ]
  },
  {
   "cell_type": "code",
   "execution_count": 3,
   "metadata": {
    "collapsed": false
   },
   "outputs": [
    {
     "data": {
      "text/plain": [
       "3x4 Array{Float64,2}:\n",
       " 2.0  1.0  1.0  18.0\n",
       " 2.0  3.0  1.0  42.0\n",
       " 3.0  1.0  1.0  24.0"
      ]
     },
     "execution_count": 3,
     "metadata": {},
     "output_type": "execute_result"
    }
   ],
   "source": [
    "A[1,1:end] = [2,1,1,18]\n",
    "A[2,1:end] = [2,3,1,42]\n",
    "A[3,1:end] = [3,1,1,24]\n",
    "\n",
    "A"
   ]
  },
  {
   "cell_type": "markdown",
   "metadata": {},
   "source": [
    "La siguiente función se encarga de estandarizar el problema. Poniendo un poco de atención podemos notar que de hecho al hacer esto se crea la misma matriz que en el caso del método de las dos fases. Propiamente no es el método de las dos fases lo que se implementa en este programa pero es muy parecido. Una segunda finalidad de la función `estandarizar` es la de agregar una identidad al final del sistema para poder así hacer comenzar con una base factible."
   ]
  },
  {
   "cell_type": "code",
   "execution_count": 4,
   "metadata": {
    "collapsed": false
   },
   "outputs": [
    {
     "data": {
      "text/plain": [
       "estandarizar (generic function with 1 method)"
      ]
     },
     "execution_count": 4,
     "metadata": {},
     "output_type": "execute_result"
    }
   ],
   "source": [
    "function estandarizar(A::Array)\n",
    "    \n",
    "    columnas_adicionales = numero_restricciones\n",
    "    \n",
    "    renglones , columnas  = size(A)\n",
    "    \n",
    "    dummy = zeros((renglones, columnas + columnas_adicionales - 1))\n",
    "    \n",
    "    dummy[1:renglones, 1:numero_variables] = A[1:renglones, 1:numero_variables]\n",
    "    \n",
    "    dummy[1:end,end] = A[1:end,end]\n",
    "    \n",
    "    dummy_idx = 1\n",
    "    \n",
    "    for i in 1:renglones\n",
    "        if(A[i,end-1] == 1)\n",
    "            dummy[i,numero_variables + dummy_idx] = 1.0\n",
    "            dummy_idx += 1\n",
    "        end\n",
    "        if(A[i,end-1] == 2)\n",
    "            dummy[i,numero_variables + dummy_idx] = -1.0\n",
    "            dummy_idx += 1\n",
    "        end\n",
    "    end\n",
    "    \n",
    "    println(\"La nueva matriz de restricciones es:\")\n",
    "    println(dummy)\n",
    "    \n",
    "    return dummy\n",
    "    \n",
    "end"
   ]
  },
  {
   "cell_type": "markdown",
   "metadata": {},
   "source": [
    "Después de estandarizar la matriz de nuestro problema (y de remover la columna relacionada con el tipo de restricción) las cosas quedarían así"
   ]
  },
  {
   "cell_type": "code",
   "execution_count": 5,
   "metadata": {
    "collapsed": false
   },
   "outputs": [
    {
     "name": "stdout",
     "output_type": "stream",
     "text": [
      "La nueva matriz de restricciones es:\n",
      "[2.0 1.0 1.0 0.0 0.0 18.0\n",
      " 2.0 3.0 0.0 1.0 0.0 42.0\n",
      " 3.0 1.0 0.0 0.0 1.0 24.0]\n"
     ]
    }
   ],
   "source": [
    "A = estandarizar(A);"
   ]
  },
  {
   "cell_type": "markdown",
   "metadata": {},
   "source": [
    "## Método simplex"
   ]
  },
  {
   "cell_type": "markdown",
   "metadata": {},
   "source": [
    "Entrando ahora sí al algoritmo simplex, definimos la matriz B que guardará la base y guardamos al vector b."
   ]
  },
  {
   "cell_type": "code",
   "execution_count": 6,
   "metadata": {
    "collapsed": false
   },
   "outputs": [
    {
     "data": {
      "text/plain": [
       "3x3 Array{Float64,2}:\n",
       " 0.0  0.0  0.0\n",
       " 0.0  0.0  0.0\n",
       " 0.0  0.0  0.0"
      ]
     },
     "execution_count": 6,
     "metadata": {},
     "output_type": "execute_result"
    }
   ],
   "source": [
    "B = zeros((numero_restricciones,numero_restricciones))"
   ]
  },
  {
   "cell_type": "code",
   "execution_count": 7,
   "metadata": {
    "collapsed": false
   },
   "outputs": [
    {
     "data": {
      "text/plain": [
       "3-element Array{Float64,1}:\n",
       " 18.0\n",
       " 42.0\n",
       " 24.0"
      ]
     },
     "execution_count": 7,
     "metadata": {},
     "output_type": "execute_result"
    }
   ],
   "source": [
    "b = A[1:end,end]"
   ]
  },
  {
   "cell_type": "markdown",
   "metadata": {},
   "source": [
    "Llenamos el vector de costos"
   ]
  },
  {
   "cell_type": "code",
   "execution_count": 8,
   "metadata": {
    "collapsed": false
   },
   "outputs": [
    {
     "data": {
      "text/plain": [
       "5-element Array{Float64,1}:\n",
       " -3.0\n",
       " -2.0\n",
       "  0.0\n",
       "  0.0\n",
       "  0.0"
      ]
     },
     "execution_count": 8,
     "metadata": {},
     "output_type": "execute_result"
    }
   ],
   "source": [
    "vector_costos = zeros(size(A)[2]-1)\n",
    "\n",
    "for i in 1:numero_variables\n",
    "    vector_costos[i] = funcion_objetivo[i]\n",
    "end\n",
    "\n",
    "vector_costos"
   ]
  },
  {
   "cell_type": "markdown",
   "metadata": {},
   "source": [
    "Hacemos una función para, dado el vector de variables básicas obtener el vector de variables no básicas"
   ]
  },
  {
   "cell_type": "code",
   "execution_count": 9,
   "metadata": {
    "collapsed": false
   },
   "outputs": [
    {
     "data": {
      "text/plain": [
       "obtener_no_basicas (generic function with 1 method)"
      ]
     },
     "execution_count": 9,
     "metadata": {},
     "output_type": "execute_result"
    }
   ],
   "source": [
    "function obtener_no_basicas(variables_basicas)\n",
    "   \n",
    "    no_b = zeros(size(A)[2] - 1 - numero_restricciones)\n",
    "    \n",
    "    idx = 1\n",
    "    \n",
    "    for i in 1:(size(A)[2] - 1)\n",
    "        \n",
    "        contador = 0\n",
    "        \n",
    "        for j in variables_basicas\n",
    "            if j != i\n",
    "                contador += 1\n",
    "            end\n",
    "        end\n",
    "        \n",
    "        if contador == numero_restricciones\n",
    "            no_b[idx] = i\n",
    "            idx += 1\n",
    "        end\n",
    "        \n",
    "    end\n",
    "    \n",
    "    return no_b\n",
    "    \n",
    "end"
   ]
  },
  {
   "cell_type": "markdown",
   "metadata": {},
   "source": [
    "Implementamos una función para obtener la nueva base."
   ]
  },
  {
   "cell_type": "code",
   "execution_count": 10,
   "metadata": {
    "collapsed": false
   },
   "outputs": [
    {
     "data": {
      "text/plain": [
       "nueva_base (generic function with 1 method)"
      ]
     },
     "execution_count": 10,
     "metadata": {},
     "output_type": "execute_result"
    }
   ],
   "source": [
    "function nueva_base(variables_basicas,entra,sale)\n",
    "   \n",
    "    idx = 1\n",
    "    \n",
    "    for i in variables_basicas\n",
    "        if sale == i\n",
    "            variables_basicas[idx] = entra\n",
    "            break\n",
    "        end\n",
    "        idx += 1\n",
    "    end\n",
    "    \n",
    "    return variables_basicas\n",
    "    \n",
    "end"
   ]
  },
  {
   "cell_type": "markdown",
   "metadata": {},
   "source": [
    "Definimos una función para elegir la variable entrante, de acuerdo con la regla de Bland."
   ]
  },
  {
   "cell_type": "code",
   "execution_count": 11,
   "metadata": {
    "collapsed": false
   },
   "outputs": [
    {
     "data": {
      "text/plain": [
       "quien_sale (generic function with 1 method)"
      ]
     },
     "execution_count": 11,
     "metadata": {},
     "output_type": "execute_result"
    }
   ],
   "source": [
    "function quien_sale(a_i, b_barra)\n",
    "    \n",
    "    dummy = zeros(numero_restricciones)\n",
    "    \n",
    "    for i in 1:numero_restricciones\n",
    "        if a_i[i] > 0\n",
    "            dummy[i] = b_barra[i]/a_i[i]\n",
    "        else\n",
    "            dummy[i] = Inf\n",
    "        end\n",
    "    end \n",
    "    \n",
    "    min = minimum(dummy)\n",
    "    \n",
    "    for i in 0:numero_restricciones-1\n",
    "        if dummy[numero_restricciones - i] == min\n",
    "            return numero_restricciones - i\n",
    "            break\n",
    "        end\n",
    "    end\n",
    "    \n",
    "end    "
   ]
  },
  {
   "cell_type": "markdown",
   "metadata": {},
   "source": [
    "Hacemos una función que hace **una** iteración en el algoritmo simplex."
   ]
  },
  {
   "cell_type": "code",
   "execution_count": 12,
   "metadata": {
    "collapsed": false
   },
   "outputs": [
    {
     "data": {
      "text/plain": [
       "iteracion_simplex (generic function with 1 method)"
      ]
     },
     "execution_count": 12,
     "metadata": {},
     "output_type": "execute_result"
    }
   ],
   "source": [
    "function iteracion_simplex(variables_basicas)\n",
    "    \n",
    "    B[1:end,1] = A[1:end,variables_basicas[1]]\n",
    "    B[1:end,2] = A[1:end,variables_basicas[2]]\n",
    "    B[1:end,3] = A[1:end,variables_basicas[3]]\n",
    "    \n",
    "    A_dummy = *(inv(B),A)\n",
    "    \n",
    "    println(\"=================================================================================================\")\n",
    "    println(\"El sistema en esta iteración es:\")\n",
    "    println(A_dummy)\n",
    "    \n",
    "    x_b = variables_basicas\n",
    "    c_b = [vector_costos[x_b[1]],vector_costos[x_b[2]],vector_costos[x_b[3]]]\n",
    "    b_barra = *(inv(B),b)\n",
    "    \n",
    "    costos_reducidos = *(*(c_b',inv(B)),A[1:end,1:end-1]) - vector_costos'\n",
    "    \n",
    "    println()\n",
    "    println(\"El vector de costos reducidos en esta iteración es:\")\n",
    "    println(costos_reducidos)\n",
    "    println()\n",
    "    \n",
    "    sale = 0\n",
    "    entra = 0\n",
    "    \n",
    "    variables_no_basicas = obtener_no_basicas(x_b)\n",
    "    \n",
    "    idx = 0\n",
    "    \n",
    "    for i in variables_no_basicas\n",
    "        \n",
    "        if costos_reducidos[i] <= 0\n",
    "            idx += 1\n",
    "        end\n",
    "        \n",
    "    end\n",
    "    \n",
    "    \n",
    "    factor = 1\n",
    "    \n",
    "    if minimizar == false\n",
    "        factor = -1\n",
    "    end\n",
    "    \n",
    "    objetivo = c_b⋅b_barra*factor\n",
    "    \n",
    "    if idx == size(A)[2] - 1 - numero_restricciones\n",
    "        println(\"=================================================================================================\")\n",
    "        println(\"Llegué al óptimo, es: \", objetivo)\n",
    "        return 0\n",
    "    end\n",
    "    \n",
    "    for i in variables_no_basicas\n",
    "        \n",
    "        if costos_reducidos[i] > 1e-8\n",
    "            \n",
    "            entra = i\n",
    "            \n",
    "            break   \n",
    "            \n",
    "        end\n",
    "        \n",
    "    end\n",
    "    \n",
    "    for i in 1:numero_restricciones\n",
    "        \n",
    "        idx = 0\n",
    "        \n",
    "        if A_dummy[i,entra] <= 0\n",
    "            idx += 1\n",
    "        end\n",
    "        \n",
    "        if idx == numero_restricciones\n",
    "            println(\"El problema es no acotado. Me largo de aquí.\")\n",
    "            return 0\n",
    "        end\n",
    "        \n",
    "    end\n",
    "    \n",
    "    sale = variables_basicas[quien_sale(A_dummy[1:end,entra],b_barra)]\n",
    "\n",
    "    println(\"La variable que entra es la: \",entra)\n",
    "    println(\"La variable que sale  es la: \",sale)\n",
    "    \n",
    "    base_actualizada = nueva_base(variables_basicas,entra,sale)\n",
    "    \n",
    "    return base_actualizada\n",
    "    \n",
    "end"
   ]
  },
  {
   "cell_type": "markdown",
   "metadata": {},
   "source": [
    "Definimos el ciclo principal, que se detiene al momento de llegar a la solución óptima."
   ]
  },
  {
   "cell_type": "code",
   "execution_count": 13,
   "metadata": {
    "collapsed": false
   },
   "outputs": [
    {
     "name": "stdout",
     "output_type": "stream",
     "text": [
      "=================================================================================================\n",
      "El sistema en esta iteración es:\n",
      "[2.0 1.0 1.0 0.0 0.0 18.0\n",
      " 2.0 3.0 0.0 1.0 0.0 42.0\n",
      " 3.0 1.0 0.0 0.0 1.0 24.0]\n",
      "\n",
      "El vector de costos reducidos en esta iteración es:\n",
      "[3.0 2.0 0.0 0.0 0.0]\n",
      "\n",
      "La variable que entra es la: 1.0\n",
      "La variable que sale  es la: 5.0\n",
      "=================================================================================================\n",
      "El sistema en esta iteración es:\n",
      "[0.0 0.33333333333333337 1.0 0.0 -0.6666666666666666 2.0\n",
      " 0.0 2.3333333333333335 0.0 1.0 -0.6666666666666666 26.0\n",
      " 1.0 0.3333333333333333 0.0 0.0 0.3333333333333333 8.0]\n",
      "\n",
      "El vector de costos reducidos en esta iteración es:\n",
      "[0.0 1.0 0.0 0.0 -1.0]\n",
      "\n",
      "La variable que entra es la: 2.0\n",
      "La variable que sale  es la: 3.0\n",
      "=================================================================================================\n",
      "El sistema en esta iteración es:\n",
      "[0.0 0.9999999999999996 3.0 -1.1102230246251565e-16 -2.0 5.999999999999993\n",
      " 0.0 -8.881784197001252e-16 -7.0 0.9999999999999998 4.0 12.0\n",
      " 1.0 0.0 -1.0 0.0 1.0 6.0]\n",
      "\n",
      "El vector de costos reducidos en esta iteración es:\n",
      "[0.0 8.881784197001252e-16 -3.0 2.220446049250313e-16 1.0]\n",
      "\n",
      "La variable que entra es la: 5.0\n",
      "La variable que sale  es la: 4.0\n",
      "=================================================================================================\n",
      "El sistema en esta iteración es:\n",
      "[1.1102230246251565e-16 0.9999999999999999 -0.4999999999999999 0.49999999999999994 0.0 11.999999999999998\n",
      " 4.440892098500626e-16 0.0 -1.7499999999999998 0.24999999999999994 1.0 3.0\n",
      " 0.9999999999999999 1.1102230246251565e-16 0.7499999999999999 -0.24999999999999994 0.0 3.0]\n",
      "\n",
      "El vector de costos reducidos en esta iteración es:\n",
      "[0.0 0.0 -1.2499999999999998 -0.2500000000000001 0.0]\n",
      "\n",
      "=================================================================================================\n",
      "Llegué al óptimo, es: 33.0\n"
     ]
    }
   ],
   "source": [
    "base = zeros(numero_restricciones)\n",
    "\n",
    "for i in 1:numero_restricciones\n",
    "    \n",
    "    base[i] = numero_variables + i\n",
    "    \n",
    "end\n",
    "\n",
    "while base != 0\n",
    "\n",
    "    base = iteracion_simplex(base)\n",
    "\n",
    "end"
   ]
  },
  {
   "cell_type": "markdown",
   "metadata": {},
   "source": [
    "## Referencias\n",
    "\n",
    "\n",
    "* [1] István Maros, *Computational Techniques of the Simplex Method*, Springer Science & Business Media, 2012.\n",
    "* [2] Dieter Jungnickel, *Graphs, Networks and Algorithms*, Springer Science & Business Media, 2007.\n",
    "* [3] Horst Peters, *Wirtschaftsmathematik: Lehrbuch*, W. Kohlhammer Verlag, 2009.\n",
    "* [4] 徐渝, 贾涛, *运筹学*, 清华大学出版社有限公司, 2005.\n",
    "* [5] George Bernard Dantzig, *Origins of the Simplex Method*, Defense Technical Information Center, 1987.\n",
    "* [6] Thomas Bradtke, *Grundlagen in Operations Research für Ökonomen*, Oldenbourg Verlag, 2003.\n",
    "* [7] Bernd Luderer, Volker Nollau, Klaus Vetters, *Mathematische Formeln für Wirtschaftswissenschaftler*, Springer-Verlag, 2015.\n",
    "* [8] *运筹学教程*, 清华大学出版社有限公司, 1990. "
   ]
  }
 ],
 "metadata": {
  "kernelspec": {
   "display_name": "Julia 0.3.10-pre",
   "language": "julia",
   "name": "julia-0.3"
  },
  "language_info": {
   "name": "julia",
   "version": "0.3.10"
  }
 },
 "nbformat": 4,
 "nbformat_minor": 0
}
